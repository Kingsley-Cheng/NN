{
 "cells": [
  {
   "attachments": {},
   "cell_type": "markdown",
   "metadata": {},
   "source": [
    "# 基于批量归一化的 LeNet 在 FashionMNIST 数据集的分类\n",
    "## 批量归一化\n",
    "主要功能：一般使用在全连接层或卷积层后，激活函数前。通过固定批量的均值与方差，允许使用较大的学习率，从而加速网络收敛\n",
    "\n",
    "### 手动实现"
   ]
  },
  {
   "cell_type": "code",
   "execution_count": 1,
   "metadata": {},
   "outputs": [],
   "source": [
    "# imports\n",
    "import torch\n",
    "from torch import nn \n",
    "from torch import optim\n",
    "import basic as b\n",
    "\n",
    "def batch_norm(X, gamma, beta, moving_mean, moving_var, eps, momentum):\n",
    "    # 通过is_grad_enabled来判断当前模式是训练模式还是预测模式\n",
    "    if not torch.is_grad_enabled():\n",
    "        # 如果是在预测模式下，直接使用传入的移动平均所得的均值和方差\n",
    "        X_hat = (X-moving_mean)/torch.sqrt(moving_var+eps)\n",
    "    else:\n",
    "        assert len(X.shape) in (2,4)\n",
    "        if len(X.shape) == 2:\n",
    "            # 使用全连接层的情况，计算特征维上的均值和方差\n",
    "            mean = X.mean(dim=0)\n",
    "            var = ((X-mean)**2).mean(dim=0)\n",
    "        else:\n",
    "            # 使用二维卷积层的情况，计算通道维上（axis=1）的均值和方差。\n",
    "            # 这里我们需要保持X的形状以便后面可以做广播运算\n",
    "            mean = X.mean(dim=(0,2,3),keepdim=True)\n",
    "            var = ((X-mean)**2).mean(dim=(0, 2, 3), keepdim=True)\n",
    "        # 训练模式下，用当前的均值和方差做标准化\n",
    "        X_hat = (X-mean)/torch.sqrt(var+eps)\n",
    "        # 更新移动平均的均值和方差\n",
    "        moving_mean = momentum*moving_mean + (1.0-momentum) * mean\n",
    "        moving_var = momentum*moving_var + (1.0-momentum) * var\n",
    "    y = gamma * X_hat + beta # 缩放和移位\n",
    "    return y, moving_mean.data, moving_var.data\n",
    "\n",
    "class BatchNorm(nn.Module):\n",
    "    # num_features：完全连接层的输出数量或卷积层的输出通道数。\n",
    "    # num_dims：2表示完全连接层，4表示卷积层\n",
    "    def __init__(self, num_features, num_dims):\n",
    "        super().__init__()\n",
    "        if num_dims == 2:\n",
    "            shape = (1, num_features)\n",
    "        else:\n",
    "            shape = (1, num_features, 1, 1)\n",
    "        # 参与求梯度和迭代的拉伸和偏移参数，分别初始化成1和0\n",
    "        self.gamma = nn.Parameter(torch.ones(shape))\n",
    "        self.beta = nn.Parameter(torch.zeros(shape))\n",
    "        # 非模型参数的变量初始化为0和1\n",
    "        self.moving_mean = torch.zeros(shape)\n",
    "        self.moving_var = torch.ones(shape)\n",
    "    \n",
    "    def forward(self, X):\n",
    "        # 如果X不在内存上，将moving_mean和moving_var\n",
    "        # 复制到X所在显存上\n",
    "        if self.moving_mean.device != X.device:\n",
    "            self.moving_mean = self.moving_mean.to(X.device)\n",
    "            self.moving_var = self.moving_var.to(X.device)\n",
    "        y, self.moving_mean, self.moving_var = batch_norm(X, self.gamma, self.beta,\n",
    "        self.moving_mean,self.moving_var,eps=1e-6,momentum=0.9)\n",
    "        return y\n",
    "\n",
    "class LeNet1(b.Net):\n",
    "    def __init__(self):\n",
    "        super(b.Net).__init__()\n",
    "        self.lenet()\n",
    "    \n",
    "    def lenet(self):\n",
    "        self.net = nn.Sequential(\n",
    "            nn.Conv2d(1, 6, kernel_size=5, padding=2),\n",
    "            BatchNorm(6,num_dims=4),\n",
    "            nn.Sigmoid(),\n",
    "            nn.AvgPool2d(kernel_size=2,stride=2),\n",
    "            nn.Conv2d(6,16,kernel_size=5),\n",
    "            BatchNorm(16,num_dims=4),\n",
    "            nn.Sigmoid(),\n",
    "            nn.AvgPool2d(kernel_size=2,stride=2),\n",
    "            nn.Flatten(),\n",
    "            nn.Linear(16*5*5, 120),\n",
    "            BatchNorm(120,num_dims=2),\n",
    "            nn.Sigmoid(),\n",
    "            nn.Linear(120,84),\n",
    "            BatchNorm(84,num_dims=2),\n",
    "            nn.Sigmoid(),\n",
    "            nn.Linear(84,10))  "
   ]
  },
  {
   "cell_type": "code",
   "execution_count": 2,
   "metadata": {},
   "outputs": [
    {
     "name": "stdout",
     "output_type": "stream",
     "text": [
      "['dress', 't-shirt', 'sneaker', 'ankle boot']\n"
     ]
    },
    {
     "data": {
      "image/png": "[encoded data removed]",
      "text/plain": [
       "<Figure size 640x480 with 1 Axes>"
      ]
     },
     "metadata": {},
     "output_type": "display_data"
    }
   ],
   "source": [
    "ROOT = \"./data\"\n",
    "BatchSize = 128\n",
    "optimizer = optim.SGD\n",
    "criterion = nn.CrossEntropyLoss()\n",
    "\n",
    "trains, tests, labels = b.load_FashionMNIST_datasets(BatchSize,28,ROOT)\n",
    "b.show_some_samples(trains,labels)"
   ]
  },
  {
   "cell_type": "code",
   "execution_count": 4,
   "metadata": {},
   "outputs": [
    {
     "name": "stdout",
     "output_type": "stream",
     "text": [
      "Training on!\n"
     ]
    },
    {
     "name": "stderr",
     "output_type": "stream",
     "text": [
      "Train1: 100%|██████████| 469/469 [00:12<00:00, 38.23it/s]\n",
      " 10%|█         | 1/10 [00:12<01:50, 12.27s/it]"
     ]
    },
    {
     "name": "stdout",
     "output_type": "stream",
     "text": [
      "epoch 1, avg_loss: 0.6380412388179038\n"
     ]
    },
    {
     "name": "stderr",
     "output_type": "stream",
     "text": [
      "Train2: 100%|██████████| 469/469 [00:10<00:00, 44.05it/s]\n",
      " 20%|██        | 2/10 [00:22<01:30, 11.32s/it]"
     ]
    },
    {
     "name": "stdout",
     "output_type": "stream",
     "text": [
      "epoch 2, avg_loss: 0.38358500370612514\n"
     ]
    },
    {
     "name": "stderr",
     "output_type": "stream",
     "text": [
      "Train3: 100%|██████████| 469/469 [00:10<00:00, 42.96it/s]\n",
      " 30%|███       | 3/10 [00:33<01:17, 11.14s/it]"
     ]
    },
    {
     "name": "stdout",
     "output_type": "stream",
     "text": [
      "epoch 3, avg_loss: 0.3407077285596448\n"
     ]
    },
    {
     "name": "stderr",
     "output_type": "stream",
     "text": [
      "Train4: 100%|██████████| 469/469 [00:10<00:00, 43.86it/s]\n",
      " 40%|████      | 4/10 [00:44<01:05, 10.96s/it]"
     ]
    },
    {
     "name": "stdout",
     "output_type": "stream",
     "text": [
      "epoch 4, avg_loss: 0.31016996604764563\n"
     ]
    },
    {
     "name": "stderr",
     "output_type": "stream",
     "text": [
      "Train5: 100%|██████████| 469/469 [00:10<00:00, 43.52it/s]\n",
      " 50%|█████     | 5/10 [00:55<00:54, 10.90s/it]"
     ]
    },
    {
     "name": "stdout",
     "output_type": "stream",
     "text": [
      "epoch 5, avg_loss: 0.2968189941607734\n"
     ]
    },
    {
     "name": "stderr",
     "output_type": "stream",
     "text": [
      "Train6: 100%|██████████| 469/469 [00:10<00:00, 44.32it/s]\n",
      " 60%|██████    | 6/10 [01:05<00:43, 10.79s/it]"
     ]
    },
    {
     "name": "stdout",
     "output_type": "stream",
     "text": [
      "epoch 6, avg_loss: 0.2792499763970701\n"
     ]
    },
    {
     "name": "stderr",
     "output_type": "stream",
     "text": [
      "Train7: 100%|██████████| 469/469 [00:10<00:00, 43.80it/s]\n",
      " 70%|███████   | 7/10 [01:16<00:32, 10.76s/it]"
     ]
    },
    {
     "name": "stdout",
     "output_type": "stream",
     "text": [
      "epoch 7, avg_loss: 0.27450389465969854\n"
     ]
    },
    {
     "name": "stderr",
     "output_type": "stream",
     "text": [
      "Train8: 100%|██████████| 469/469 [00:10<00:00, 43.42it/s]\n",
      " 80%|████████  | 8/10 [01:27<00:21, 10.78s/it]"
     ]
    },
    {
     "name": "stdout",
     "output_type": "stream",
     "text": [
      "epoch 8, avg_loss: 0.2648674126746308\n"
     ]
    },
    {
     "name": "stderr",
     "output_type": "stream",
     "text": [
      "Train9: 100%|██████████| 469/469 [00:10<00:00, 43.52it/s]\n",
      " 90%|█████████ | 9/10 [01:38<00:10, 10.78s/it]"
     ]
    },
    {
     "name": "stdout",
     "output_type": "stream",
     "text": [
      "epoch 9, avg_loss: 0.25443389187129134\n"
     ]
    },
    {
     "name": "stderr",
     "output_type": "stream",
     "text": [
      "Train10: 100%|██████████| 469/469 [00:10<00:00, 44.09it/s]\n",
      "100%|██████████| 10/10 [01:48<00:00, 10.88s/it]"
     ]
    },
    {
     "name": "stdout",
     "output_type": "stream",
     "text": [
      "epoch 10, avg_loss: 0.24702637371981245\n",
      "Finish Training!\n"
     ]
    },
    {
     "name": "stderr",
     "output_type": "stream",
     "text": [
      "\n"
     ]
    }
   ],
   "source": [
    "lenet = LeNet1()\n",
    "lenet.train(trains,criterion,optimizer,epochs=10,lr=1.0)"
   ]
  },
  {
   "cell_type": "code",
   "execution_count": 5,
   "metadata": {},
   "outputs": [
    {
     "name": "stdout",
     "output_type": "stream",
     "text": [
      "Total Accuracy:  88.87\n",
      "Accuracy of t-shirt : 86 %\n",
      "Accuracy of trouser : 96 %\n",
      "Accuracy of pullover : 82 %\n",
      "Accuracy of dress : 93 %\n",
      "Accuracy of  coat : 81 %\n",
      "Accuracy of sandal : 97 %\n",
      "Accuracy of shirt : 61 %\n",
      "Accuracy of sneaker : 96 %\n",
      "Accuracy of   bag : 97 %\n",
      "Accuracy of ankle boot : 95 %\n"
     ]
    }
   ],
   "source": [
    "lenet.accuracy(tests)\n",
    "lenet.label_accuracy(tests,labels)"
   ]
  },
  {
   "attachments": {},
   "cell_type": "markdown",
   "metadata": {},
   "source": [
    "### 快速实现批量归一化"
   ]
  },
  {
   "cell_type": "code",
   "execution_count": null,
   "metadata": {},
   "outputs": [],
   "source": [
    "class LeNet2(b.Net):\n",
    "    def __init__(self):\n",
    "        super(b.Net).__init__()\n",
    "        self.lenet()\n",
    "    \n",
    "    def lenet(self):\n",
    "        self.net = nn.Sequential(\n",
    "            nn.Conv2d(1, 6, kernel_size=5, padding=2),\n",
    "            nn.BatchNorm2d(6),\n",
    "            nn.Sigmoid(),\n",
    "            nn.AvgPool2d(kernel_size=2,stride=2),\n",
    "            nn.Conv2d(6,16,kernel_size=5),\n",
    "            nn.BatchNorm2d(16),\n",
    "            nn.Sigmoid(),\n",
    "            nn.AvgPool2d(kernel_size=2,stride=2),\n",
    "            nn.Flatten(),\n",
    "            nn.Linear(16*5*5, 120),\n",
    "            nn.BatchNorm1d(120),\n",
    "            nn.Sigmoid(),\n",
    "            nn.Linear(120,84),\n",
    "            nn.BatchNorm1d(84),\n",
    "            nn.Sigmoid(),\n",
    "            nn.Linear(84,10))  "
   ]
  }
 ],
 "metadata": {
  "kernelspec": {
   "display_name": "Python 3",
   "language": "python",
   "name": "python3"
  },
  "language_info": {
   "codemirror_mode": {
    "name": "ipython",
    "version": 3
   },
   "file_extension": ".py",
   "mimetype": "text/x-python",
   "name": "python",
   "nbconvert_exporter": "python",
   "pygments_lexer": "ipython3",
   "version": "3.9.13"
  },
  "orig_nbformat": 4,
  "vscode": {
   "interpreter": {
    "hash": "aee8b7b246df8f9039afb4144a1f6fd8d2ca17a180786b69acc140d282b71a49"
   }
  }
 },
 "nbformat": 4,
 "nbformat_minor": 2
}
