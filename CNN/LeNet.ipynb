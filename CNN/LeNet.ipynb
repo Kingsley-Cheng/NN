{
 "cells": [
  {
   "attachments": {},
   "cell_type": "markdown",
   "metadata": {},
   "source": [
    "# 基于 LeNet 的 FashionMNIST 数据集的分类\n",
    "## LeNet\n",
    "### 基本框架：\n",
    "LeNet 主要由两个部分组成：\n",
    "- 卷积层\n",
    "- 全连接层\n",
    "\n",
    "其基本机构如下：\n",
    "\n",
    "输入：图片（$28\\times 28$）\n",
    "- $5\\times 5$ 卷积层（6），填充为 2 （6@28*28）\n",
    "- Sigmoid 函数激活\n",
    "- $2\\times 2$ 平均汇聚层，步幅为 2 （6@14*14）\n",
    "- $5\\times 5$ 卷积层（16） （16@10*10）\n",
    "- Sigmoid 函数激活\n",
    "- $2\\times 2$ 平均汇聚层，步幅为 2 （16@5*5）\n",
    "- Flatten 展平\n",
    "- 全连接层（16\\*5*5,120）\n",
    "- Sigmoid 函数激活\n",
    "- 全连接层（120，84）\n",
    "- Sigmoid 函数激活\n",
    "- 全连接层（84，10）\n",
    "- softmax 函数分类输出\n",
    "\n",
    "输出：10 个类别样本"
   ]
  },
  {
   "cell_type": "code",
   "execution_count": 1,
   "metadata": {},
   "outputs": [],
   "source": [
    "# imports\n",
    "import basic\n",
    "from torch import nn\n",
    "from torch import optim\n",
    "\n",
    "\n",
    "class LeNet(basic.Net):\n",
    "    def __init__(self):\n",
    "        super(basic.Net).__init__()\n",
    "        self.lenet()\n",
    "    \n",
    "    def lenet(self):\n",
    "        self.net = nn.Sequential(\n",
    "            nn.Conv2d(1, 6, kernel_size=5, padding=2),\n",
    "            nn.Sigmoid(),\n",
    "            nn.AvgPool2d(kernel_size=2,stride=2),\n",
    "            nn.Conv2d(6,16,kernel_size=5),\n",
    "            nn.Sigmoid(),\n",
    "            nn.AvgPool2d(kernel_size=2,stride=2),\n",
    "            nn.Flatten(),\n",
    "            nn.Linear(16*5*5, 120),\n",
    "            nn.Sigmoid(),\n",
    "            nn.Linear(120,84),\n",
    "            nn.Sigmoid(),\n",
    "            nn.Linear(84,10))"
   ]
  },
  {
   "cell_type": "code",
   "execution_count": 5,
   "metadata": {},
   "outputs": [
    {
     "name": "stdout",
     "output_type": "stream",
     "text": [
      "['bag', 'sandal', 'sneaker', 'pullover']\n"
     ]
    },
    {
     "data": {
      "image/png": "[encoded data removed]",
      "text/plain": [
       "<Figure size 640x480 with 1 Axes>"
      ]
     },
     "metadata": {},
     "output_type": "display_data"
    }
   ],
   "source": [
    "ROOT = \"./data\"\n",
    "BatchSize = 128\n",
    "optimizer = optim.SGD\n",
    "criterion = nn.CrossEntropyLoss()\n",
    "\n",
    "trains, tests, labels = basic.load_FashionMNIST_datasets(BatchSize,28,ROOT)\n",
    "basic.show_some_samples(trains,labels)"
   ]
  },
  {
   "cell_type": "code",
   "execution_count": 6,
   "metadata": {},
   "outputs": [
    {
     "name": "stdout",
     "output_type": "stream",
     "text": [
      "Training on!\n"
     ]
    },
    {
     "name": "stderr",
     "output_type": "stream",
     "text": [
      "Train1: 100%|██████████| 469/469 [00:05<00:00, 88.05it/s] \n",
      " 20%|██        | 1/5 [00:05<00:21,  5.33s/it]"
     ]
    },
    {
     "name": "stdout",
     "output_type": "stream",
     "text": [
      "epoch 1, avg_loss: 2.3139074913456907\n"
     ]
    },
    {
     "name": "stderr",
     "output_type": "stream",
     "text": [
      "Train2: 100%|██████████| 469/469 [00:05<00:00, 89.23it/s] \n",
      " 40%|████      | 2/5 [00:10<00:15,  5.29s/it]"
     ]
    },
    {
     "name": "stdout",
     "output_type": "stream",
     "text": [
      "epoch 2, avg_loss: 2.3022346236766915\n"
     ]
    },
    {
     "name": "stderr",
     "output_type": "stream",
     "text": [
      "Train3: 100%|██████████| 469/469 [00:05<00:00, 86.86it/s] \n",
      " 60%|██████    | 3/5 [00:15<00:10,  5.34s/it]"
     ]
    },
    {
     "name": "stdout",
     "output_type": "stream",
     "text": [
      "epoch 3, avg_loss: 1.8250295135200534\n"
     ]
    },
    {
     "name": "stderr",
     "output_type": "stream",
     "text": [
      "Train4: 100%|██████████| 469/469 [00:05<00:00, 88.63it/s] \n",
      " 80%|████████  | 4/5 [00:21<00:05,  5.32s/it]"
     ]
    },
    {
     "name": "stdout",
     "output_type": "stream",
     "text": [
      "epoch 4, avg_loss: 1.1351209117306604\n"
     ]
    },
    {
     "name": "stderr",
     "output_type": "stream",
     "text": [
      "Train5: 100%|██████████| 469/469 [00:05<00:00, 88.87it/s] \n",
      "100%|██████████| 5/5 [00:26<00:00,  5.31s/it]"
     ]
    },
    {
     "name": "stdout",
     "output_type": "stream",
     "text": [
      "epoch 5, avg_loss: 0.9403687114389534\n",
      "Finish Training!\n"
     ]
    },
    {
     "name": "stderr",
     "output_type": "stream",
     "text": [
      "\n"
     ]
    },
    {
     "name": "stdout",
     "output_type": "stream",
     "text": [
      "Total Accuracy:  67.32\n",
      "Accuracy of t-shirt : 72 %\n",
      "Accuracy of trouser : 85 %\n",
      "Accuracy of pullover : 60 %\n",
      "Accuracy of dress : 56 %\n",
      "Accuracy of  coat : 56 %\n",
      "Accuracy of sandal : 68 %\n",
      "Accuracy of shirt :  8 %\n",
      "Accuracy of sneaker : 82 %\n",
      "Accuracy of   bag : 88 %\n",
      "Accuracy of ankle boot : 92 %\n",
      "[726.0, 859.0, 603.0, 569.0, 565.0, 686.0, 82.0, 826.0, 887.0, 929.0]\n",
      "[1000.0, 1000.0, 1000.0, 1000.0, 1000.0, 1000.0, 1000.0, 1000.0, 1000.0, 1000.0]\n"
     ]
    }
   ],
   "source": [
    "lenet = LeNet()\n",
    "lenet.train(trains,criterion,optimizer,epochs=5)\n",
    "lenet.accuracy(tests)\n",
    "lenet.label_accuracy(tests,labels)"
   ]
  }
 ],
 "metadata": {
  "kernelspec": {
   "display_name": "Python 3",
   "language": "python",
   "name": "python3"
  },
  "language_info": {
   "codemirror_mode": {
    "name": "ipython",
    "version": 3
   },
   "file_extension": ".py",
   "mimetype": "text/x-python",
   "name": "python",
   "nbconvert_exporter": "python",
   "pygments_lexer": "ipython3",
   "version": "3.9.13"
  },
  "orig_nbformat": 4,
  "vscode": {
   "interpreter": {
    "hash": "aee8b7b246df8f9039afb4144a1f6fd8d2ca17a180786b69acc140d282b71a49"
   }
  }
 },
 "nbformat": 4,
 "nbformat_minor": 2
}
